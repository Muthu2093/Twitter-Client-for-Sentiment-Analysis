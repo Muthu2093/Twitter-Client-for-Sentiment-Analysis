{
 "cells": [
  {
   "cell_type": "markdown",
   "metadata": {},
   "source": [
    "# Problem 1"
   ]
  },
  {
   "cell_type": "code",
   "execution_count": null,
   "metadata": {
    "collapsed": true
   },
   "outputs": [],
   "source": [
    "sales1<-c(12,14,16,29,30,45,19,20,16, 19, 34, 20)\n",
    "sales2<-rpois(12,34) # random numbers, Poisson distribution, mean at 34, 12 numbers par(bg=\"cornsilk\")\n",
    "\n",
    "plot(sales1, col=\"blue\", type=\"o\", ylim=c(0,100), xlab=\"Month\", ylab=\"Sales\" )\n",
    "title(main=\"Sales by Month\")\n",
    "\n",
    "lines(sales2, type=\"o\", pch=22, lty=2, col=\"red\")\n",
    "grid(nx=NA, ny=NULL)\n",
    "legend(\"topright\", inset=.05, c(\"Sales1\",\"Sales2\"), fill=c(\"blue\",\"red\"), horiz=TRUE)"
   ]
  },
  {
   "cell_type": "markdown",
   "metadata": {},
   "source": [
    "# Problem2"
   ]
  },
  {
   "cell_type": "code",
   "execution_count": null,
   "metadata": {
    "collapsed": true
   },
   "outputs": [],
   "source": [
    "##Change relative path to the salesdata.txt from you disk\n",
    "sales<-read.table(\"../Test_Data/salesdata.txt\", header=T)\n",
    "sales # to verify that data has been read\n",
    "barplot(as.matrix(sales), main=\"Sales Data\", ylab= \"Total\",beside=T, col=rainbow(5))"
   ]
  },
  {
   "cell_type": "markdown",
   "metadata": {},
   "source": [
    "# Problem 3"
   ]
  },
  {
   "cell_type": "code",
   "execution_count": null,
   "metadata": {
    "collapsed": true,
    "scrolled": true
   },
   "outputs": [],
   "source": [
    "fn<-boxplot(sales,col=c(\"orange\",\"green\"))$stats\n",
    "text(1.45, fn[3,2], paste(\"Median =\", fn[3,2]), adj=0, cex=.7) \n",
    "text(0.45, fn[3,1],paste(\"Median =\", fn[3,1]), adj=0, cex=.7) \n",
    "grid(nx=NA, ny=NULL)"
   ]
  },
  {
   "cell_type": "markdown",
   "metadata": {},
   "source": [
    "# Problem 4"
   ]
  },
  {
   "cell_type": "code",
   "execution_count": null,
   "metadata": {
    "collapsed": true
   },
   "outputs": [],
   "source": [
    "fb1<-read.csv(\"../Test_Data/FB.csv\")\n",
    "aapl1<-read.csv(\"../Test_Data/AAPL.csv\")\n",
    "\n",
    "par(bg=\"cornsilk\")\n",
    "plot(aapl1$Adj.Close, col=\"blue\", type=\"o\", ylim=c(0,100), xlab=\"Days\", ylab=\"Price\" ) \n",
    "lines(fb1$Adj.Close, type=\"o\", pch=22, lty=2, col=\"red\")\n",
    "legend(\"topright\", inset=.05, c(\"Apple\",\"Facebook\"), fill=c(\"blue\",\"red\"), horiz=TRUE)\n",
    "\n",
    "hist(aapl1$Adj.Close, col=rainbow(8))"
   ]
  },
  {
   "cell_type": "markdown",
   "metadata": {},
   "source": [
    "# Problem 5"
   ]
  },
  {
   "cell_type": "code",
   "execution_count": null,
   "metadata": {
    "collapsed": true
   },
   "outputs": [],
   "source": [
    "# Need to verify mpg\n",
    "\n",
    "data()\n",
    "attach(mpg)\n",
    "head(mpg)\n",
    "summary(mpg)\n",
    "#after analysis remove the data from the memory detach(mpg)\n",
    "\n",
    "detach(mpg)\n",
    "\n",
    "library (help=datasets) \n",
    "library(datasets)\n",
    "head(uspop)\n",
    "plot(uspop)"
   ]
  },
  {
   "cell_type": "markdown",
   "metadata": {},
   "source": [
    "# Problem 6"
   ]
  },
  {
   "cell_type": "code",
   "execution_count": null,
   "metadata": {
    "collapsed": true
   },
   "outputs": [],
   "source": [
    "#Need to check how to convert geocode of location - geocode()\n",
    "\n",
    "library(\"ggmap\")\n",
    "library(\"maptools\")\n",
    "library(maps)\n",
    "visited <- c(\"SFO\", \"Chennai\", \"London\", \"Melbourne\", \"Lima, Peru\",\"Johannesburg, SA\")\n",
    "ll.visited <- geocode(visited)\n",
    "visit.x <- ll.visited$lon\n",
    "visit.y <- ll.visited$lat\n",
    "map(\"world\", fill=TRUE, col=\"white\", bg=\"lightblue\", ylim=c(-60, 90), mar=c(0,0,0,0))\n",
    "CSE4/587\n",
    "points(visit.x,visit.y, col=\"red\", pch=36)"
   ]
  },
  {
   "cell_type": "markdown",
   "metadata": {},
   "source": [
    "# Problem 7"
   ]
  },
  {
   "cell_type": "code",
   "execution_count": null,
   "metadata": {
    "collapsed": true
   },
   "outputs": [],
   "source": [
    "#Repeat the data with some other rich data set from Rpackage\n",
    "\n",
    "splom(mtcars[c(1,3,4,5,6)], main=\"MTCARS Data\")\n",
    "splom(mtcars[c(1,3,4,6)], main=\"MTCARS Data\")\n",
    "splom(mtcars[c(1,3,4,6)], col=rainbow(),main=\"MTCARS Data\")\n",
    "Another data set: “rock”\n",
    "splom(rock[c(1,2,3,4)], main=\"ROCK Data\")"
   ]
  },
  {
   "cell_type": "markdown",
   "metadata": {},
   "source": [
    "# Problem 8"
   ]
  },
  {
   "cell_type": "code",
   "execution_count": null,
   "metadata": {
    "collapsed": true
   },
   "outputs": [],
   "source": [
    "# Working with ggplot()\n"
   ]
  }
 ],
 "metadata": {
  "kernelspec": {
   "display_name": "R",
   "language": "R",
   "name": "ir"
  },
  "language_info": {
   "codemirror_mode": "r",
   "file_extension": ".r",
   "mimetype": "text/x-r-source",
   "name": "R",
   "pygments_lexer": "r",
   "version": "3.4.2"
  }
 },
 "nbformat": 4,
 "nbformat_minor": 2
}
